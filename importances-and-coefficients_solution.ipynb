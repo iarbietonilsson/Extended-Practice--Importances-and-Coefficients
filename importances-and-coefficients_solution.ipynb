{
 "cells": [
  {
   "cell_type": "markdown",
   "id": "d708d3b6",
   "metadata": {},
   "source": [
    "<div id=\"todo_description\"><h1>(Optional) Extended Practice: Importances and Coefficients</h1>\n",
    "    "
   ]
  },
  {
   "cell_type": "markdown",
   "id": "16ee22e9",
   "metadata": {},
   "source": [
    "<ul><li>The following practice assignment is much longer than a typical practice assignment. <ul><li>You may skip this assignment if you feel comfortable with what you have learned thus far. </li><li>Note: while the target grades (G1-G3) are different, all of the features from this data set are the same as those from the Student Performance lessons. They require the same preprocessing steps as you've seen in the previous lessons.</li></ul></li></ul><h3>Task</h3>\n",
    "<ul><li>For this assignment, we will be using the alternative version of the student performance dataset that we've been exploring in the lessons this week. You will create a model to predict the students' final grades (G3), but using the Math grades version of the data. The features are the same as the dataset used in the lessons, but the G1, G2, and G3 columns are the students' grades for Math instead of Portuguese. </li></ul>\n",
    "<ul><li>First, preprocess the data.<ul><li>A: Perform train-test-split with G3 as the target.</li><li>B: Use a ColumnTransformer with the required preprocessing steps <ul><li>Drop any unnecessary binary categories using the drop='if_binary' argument for OneHotEncoder.</li><li>Don't forget to add <code>verbose_feature_names_out=False</code></li></ul></li><li>C: Create DataFrame versions of your X_train and X_test data using the correct feature names.</li></ul></li><li>Second, fit a tree-based model of your choice (that produces feature importances).<ul><li>A: Evaluate its performance on the training and test data.</li><li>B: extract and visualize the feature importances determined by the model.</li><li>C: Answer what were the top 5 most important features?</li></ul></li><li>Third, apply sklearn's permutation_importance.<ul><li>A: visualize the permutation importances.</li><li>B: Answer what are the top 5 most important features the same as the top 5 most important features (according to our built-in importance)?</li></ul></li><li>Fourth, Fit a sklearn LinearRegression model.<ul><li>A: Evaluate its performance on the training &amp; test data.</li><li>B: visualize the model's top 15 largest coefficients (according to absolute value).</li><li>C: Select the 3 largest coefficients (by absolute value) and explain what they mean and what insights they might provide.</li></ul></li></ul>\n",
    "<h3></h3><h3>The Data<a href=\"http://localhost:8888/notebooks/ASSIGNMENTS/04_Core%202%20-%20Global%20Explanations%20with%20Shap.ipynb#The-Data\" class=\"anchor-link\"></a></h3>\n",
    "<ul><li>Student Performance - Math<ul><li><a href=\"https://docs.google.com/spreadsheets/d/1EbTcrapgIgMETN5H9Khw9N92k4OLN1Zu/edit?usp=sharing&amp;ouid=103333507259828193129&amp;rtpof=true&amp;sd=true\" rel=\"nofollow\" target=\"_blank\">Share URL</a></li><li>Direct Link:</li><li><a href=\"https://docs.google.com/spreadsheets/d/e/2PACX-1vS6xDKNpWkBBdhZSqepy48bXo55QnRv1Xy6tXTKYzZLMPjZozMfYhHQjAcC8uj9hQ/pub?output=xlsx\" rel=\"nofollow\" target=\"_blank\">https://docs.google.com/spreadsheets/d/e/2PACX-1vS6xDKNpWkBBdhZSqepy48bXo55QnRv1Xy6tXTKYzZLMPjZozMfYhHQjAcC8uj9hQ/pub?output=xlsx</a></li><li>Note: the dataset is an Excel document, and you will need to specify that <code>sheet_name='mat'</code> in pd.read_excel</li></ul></li><li>Original Source &amp; Data Dictionary:<ul><li><a href=\"https://archive.ics.uci.edu/ml/datasets/student+performance\" rel=\"nofollow\" target=\"_blank\">https://archive.ics.uci.edu/ml/datasets/student+performance</a></li></ul></li></ul><p><br></p>"
   ]
  },
  {
   "cell_type": "markdown",
   "id": "a97aef8d",
   "metadata": {},
   "source": [
    "# SOLUTION"
   ]
  },
  {
   "cell_type": "code",
   "execution_count": 1,
   "id": "861c9c8c",
   "metadata": {},
   "outputs": [],
   "source": [
    "## Our standard import\n",
    "import pandas as pd\n",
    "import numpy as np\n",
    "import matplotlib.pyplot as plt\n",
    "import seaborn as sns\n",
    "\n",
    "## Preprocessing tools\n",
    "from sklearn.model_selection import train_test_split\n",
    "from sklearn.compose import make_column_transformer, make_column_selector\n",
    "from sklearn.pipeline import make_pipeline\n",
    "from sklearn.preprocessing import OneHotEncoder, StandardScaler\n",
    "from sklearn.impute import SimpleImputer\n",
    "\n",
    "\n",
    "## Models & evaluation metrics\n",
    "from sklearn import metrics\n",
    "from sklearn.linear_model import LinearRegression\n",
    "from sklearn.tree import DecisionTreeRegressor\n",
    "from sklearn.ensemble import RandomForestRegressor\n",
    "import joblib\n",
    "\n",
    "# ## setting random state for reproducibility\n",
    "SEED = 321\n",
    "np.random.seed(SEED)\n",
    "plt.style.use(('ggplot','tableau-colorblind10'))"
   ]
  },
  {
   "cell_type": "markdown",
   "id": "7fc88e78",
   "metadata": {},
   "source": [
    "## Preprocess the data."
   ]
  },
  {
   "cell_type": "markdown",
   "id": "fdd4e67a",
   "metadata": {},
   "source": [
    "- A: Perform train-test-split with G3 as the target.\n",
    "- B: Use a ColumnTransformer with the required preprocessing steps\n",
    "    - Drop any unnecessary binary categories using the drop='if_binary' argument for OneHotEncoder.\n",
    "    - Don't forget to add verbose_feature_names_out=False\n",
    "- C: Create DataFrame versions of your X_train and X_test data using the correct feature names."
   ]
  },
  {
   "cell_type": "code",
   "execution_count": 2,
   "id": "cdc564a8",
   "metadata": {
    "scrolled": false
   },
   "outputs": [
    {
     "name": "stdout",
     "output_type": "stream",
     "text": [
      "<class 'pandas.core.frame.DataFrame'>\n",
      "RangeIndex: 395 entries, 0 to 394\n",
      "Data columns (total 33 columns):\n",
      " #   Column      Non-Null Count  Dtype \n",
      "---  ------      --------------  ----- \n",
      " 0   school      395 non-null    object\n",
      " 1   sex         395 non-null    object\n",
      " 2   age         395 non-null    int64 \n",
      " 3   address     395 non-null    object\n",
      " 4   famsize     395 non-null    object\n",
      " 5   Pstatus     395 non-null    object\n",
      " 6   Medu        395 non-null    int64 \n",
      " 7   Fedu        395 non-null    int64 \n",
      " 8   Mjob        395 non-null    object\n",
      " 9   Fjob        395 non-null    object\n",
      " 10  reason      395 non-null    object\n",
      " 11  guardian    395 non-null    object\n",
      " 12  traveltime  395 non-null    int64 \n",
      " 13  studytime   395 non-null    int64 \n",
      " 14  failures    395 non-null    int64 \n",
      " 15  schoolsup   395 non-null    object\n",
      " 16  famsup      395 non-null    object\n",
      " 17  paid        395 non-null    object\n",
      " 18  activities  395 non-null    object\n",
      " 19  nursery     395 non-null    object\n",
      " 20  higher      395 non-null    object\n",
      " 21  internet    395 non-null    object\n",
      " 22  romantic    395 non-null    object\n",
      " 23  famrel      395 non-null    int64 \n",
      " 24  freetime    395 non-null    int64 \n",
      " 25  goout       395 non-null    int64 \n",
      " 26  Dalc        395 non-null    int64 \n",
      " 27  Walc        395 non-null    int64 \n",
      " 28  health      395 non-null    int64 \n",
      " 29  absences    395 non-null    int64 \n",
      " 30  G1          395 non-null    int64 \n",
      " 31  G2          395 non-null    int64 \n",
      " 32  G3          395 non-null    int64 \n",
      "dtypes: int64(16), object(17)\n",
      "memory usage: 102.0+ KB\n"
     ]
    },
    {
     "data": {
      "text/html": [
       "<div>\n",
       "<style scoped>\n",
       "    .dataframe tbody tr th:only-of-type {\n",
       "        vertical-align: middle;\n",
       "    }\n",
       "\n",
       "    .dataframe tbody tr th {\n",
       "        vertical-align: top;\n",
       "    }\n",
       "\n",
       "    .dataframe thead th {\n",
       "        text-align: right;\n",
       "    }\n",
       "</style>\n",
       "<table border=\"1\" class=\"dataframe\">\n",
       "  <thead>\n",
       "    <tr style=\"text-align: right;\">\n",
       "      <th></th>\n",
       "      <th>school</th>\n",
       "      <th>sex</th>\n",
       "      <th>age</th>\n",
       "      <th>address</th>\n",
       "      <th>famsize</th>\n",
       "      <th>Pstatus</th>\n",
       "      <th>Medu</th>\n",
       "      <th>Fedu</th>\n",
       "      <th>Mjob</th>\n",
       "      <th>Fjob</th>\n",
       "      <th>...</th>\n",
       "      <th>famrel</th>\n",
       "      <th>freetime</th>\n",
       "      <th>goout</th>\n",
       "      <th>Dalc</th>\n",
       "      <th>Walc</th>\n",
       "      <th>health</th>\n",
       "      <th>absences</th>\n",
       "      <th>G1</th>\n",
       "      <th>G2</th>\n",
       "      <th>G3</th>\n",
       "    </tr>\n",
       "  </thead>\n",
       "  <tbody>\n",
       "    <tr>\n",
       "      <th>0</th>\n",
       "      <td>GP</td>\n",
       "      <td>F</td>\n",
       "      <td>18</td>\n",
       "      <td>U</td>\n",
       "      <td>GT3</td>\n",
       "      <td>A</td>\n",
       "      <td>4</td>\n",
       "      <td>4</td>\n",
       "      <td>at_home</td>\n",
       "      <td>teacher</td>\n",
       "      <td>...</td>\n",
       "      <td>4</td>\n",
       "      <td>3</td>\n",
       "      <td>4</td>\n",
       "      <td>1</td>\n",
       "      <td>1</td>\n",
       "      <td>3</td>\n",
       "      <td>6</td>\n",
       "      <td>5</td>\n",
       "      <td>6</td>\n",
       "      <td>6</td>\n",
       "    </tr>\n",
       "    <tr>\n",
       "      <th>1</th>\n",
       "      <td>GP</td>\n",
       "      <td>F</td>\n",
       "      <td>17</td>\n",
       "      <td>U</td>\n",
       "      <td>GT3</td>\n",
       "      <td>T</td>\n",
       "      <td>1</td>\n",
       "      <td>1</td>\n",
       "      <td>at_home</td>\n",
       "      <td>other</td>\n",
       "      <td>...</td>\n",
       "      <td>5</td>\n",
       "      <td>3</td>\n",
       "      <td>3</td>\n",
       "      <td>1</td>\n",
       "      <td>1</td>\n",
       "      <td>3</td>\n",
       "      <td>4</td>\n",
       "      <td>5</td>\n",
       "      <td>5</td>\n",
       "      <td>6</td>\n",
       "    </tr>\n",
       "    <tr>\n",
       "      <th>2</th>\n",
       "      <td>GP</td>\n",
       "      <td>F</td>\n",
       "      <td>15</td>\n",
       "      <td>U</td>\n",
       "      <td>LE3</td>\n",
       "      <td>T</td>\n",
       "      <td>1</td>\n",
       "      <td>1</td>\n",
       "      <td>at_home</td>\n",
       "      <td>other</td>\n",
       "      <td>...</td>\n",
       "      <td>4</td>\n",
       "      <td>3</td>\n",
       "      <td>2</td>\n",
       "      <td>2</td>\n",
       "      <td>3</td>\n",
       "      <td>3</td>\n",
       "      <td>10</td>\n",
       "      <td>7</td>\n",
       "      <td>8</td>\n",
       "      <td>10</td>\n",
       "    </tr>\n",
       "    <tr>\n",
       "      <th>3</th>\n",
       "      <td>GP</td>\n",
       "      <td>F</td>\n",
       "      <td>15</td>\n",
       "      <td>U</td>\n",
       "      <td>GT3</td>\n",
       "      <td>T</td>\n",
       "      <td>4</td>\n",
       "      <td>2</td>\n",
       "      <td>health</td>\n",
       "      <td>services</td>\n",
       "      <td>...</td>\n",
       "      <td>3</td>\n",
       "      <td>2</td>\n",
       "      <td>2</td>\n",
       "      <td>1</td>\n",
       "      <td>1</td>\n",
       "      <td>5</td>\n",
       "      <td>2</td>\n",
       "      <td>15</td>\n",
       "      <td>14</td>\n",
       "      <td>15</td>\n",
       "    </tr>\n",
       "    <tr>\n",
       "      <th>4</th>\n",
       "      <td>GP</td>\n",
       "      <td>F</td>\n",
       "      <td>16</td>\n",
       "      <td>U</td>\n",
       "      <td>GT3</td>\n",
       "      <td>T</td>\n",
       "      <td>3</td>\n",
       "      <td>3</td>\n",
       "      <td>other</td>\n",
       "      <td>other</td>\n",
       "      <td>...</td>\n",
       "      <td>4</td>\n",
       "      <td>3</td>\n",
       "      <td>2</td>\n",
       "      <td>1</td>\n",
       "      <td>2</td>\n",
       "      <td>5</td>\n",
       "      <td>4</td>\n",
       "      <td>6</td>\n",
       "      <td>10</td>\n",
       "      <td>10</td>\n",
       "    </tr>\n",
       "  </tbody>\n",
       "</table>\n",
       "<p>5 rows × 33 columns</p>\n",
       "</div>"
      ],
      "text/plain": [
       "  school sex  age address famsize Pstatus  Medu  Fedu     Mjob      Fjob  ...  \\\n",
       "0     GP   F   18       U     GT3       A     4     4  at_home   teacher  ...   \n",
       "1     GP   F   17       U     GT3       T     1     1  at_home     other  ...   \n",
       "2     GP   F   15       U     LE3       T     1     1  at_home     other  ...   \n",
       "3     GP   F   15       U     GT3       T     4     2   health  services  ...   \n",
       "4     GP   F   16       U     GT3       T     3     3    other     other  ...   \n",
       "\n",
       "  famrel freetime  goout  Dalc  Walc health absences  G1  G2  G3  \n",
       "0      4        3      4     1     1      3        6   5   6   6  \n",
       "1      5        3      3     1     1      3        4   5   5   6  \n",
       "2      4        3      2     2     3      3       10   7   8  10  \n",
       "3      3        2      2     1     1      5        2  15  14  15  \n",
       "4      4        3      2     1     2      5        4   6  10  10  \n",
       "\n",
       "[5 rows x 33 columns]"
      ]
     },
     "execution_count": 2,
     "metadata": {},
     "output_type": "execute_result"
    }
   ],
   "source": [
    "## Load in data\n",
    "FILE = \"https://docs.google.com/spreadsheets/d/e/2PACX-1vS6xDKNpWkBBdhZSqepy48bXo55QnRv1Xy6tXTKYzZLMPjZozMfYhHQjAcC8uj9hQ/pub?output=xlsx\"\n",
    "\n",
    "\n",
    "df = pd.read_excel(FILE, sheet_name='student-mat')\n",
    "df.info()\n",
    "df.head()"
   ]
  },
  {
   "cell_type": "markdown",
   "id": "f7c6e4b1",
   "metadata": {},
   "source": [
    "## Preprocess the Data"
   ]
  },
  {
   "cell_type": "code",
   "execution_count": 3,
   "id": "c0e7804f",
   "metadata": {},
   "outputs": [],
   "source": [
    "pd.set_option('display.max_columns',None)"
   ]
  },
  {
   "cell_type": "code",
   "execution_count": 4,
   "id": "611c5614",
   "metadata": {},
   "outputs": [
    {
     "data": {
      "text/html": [
       "<div>\n",
       "<style scoped>\n",
       "    .dataframe tbody tr th:only-of-type {\n",
       "        vertical-align: middle;\n",
       "    }\n",
       "\n",
       "    .dataframe tbody tr th {\n",
       "        vertical-align: top;\n",
       "    }\n",
       "\n",
       "    .dataframe thead th {\n",
       "        text-align: right;\n",
       "    }\n",
       "</style>\n",
       "<table border=\"1\" class=\"dataframe\">\n",
       "  <thead>\n",
       "    <tr style=\"text-align: right;\">\n",
       "      <th></th>\n",
       "      <th>school</th>\n",
       "      <th>sex</th>\n",
       "      <th>age</th>\n",
       "      <th>address</th>\n",
       "      <th>famsize</th>\n",
       "      <th>Pstatus</th>\n",
       "      <th>Medu</th>\n",
       "      <th>Fedu</th>\n",
       "      <th>Mjob</th>\n",
       "      <th>Fjob</th>\n",
       "      <th>reason</th>\n",
       "      <th>guardian</th>\n",
       "      <th>traveltime</th>\n",
       "      <th>studytime</th>\n",
       "      <th>failures</th>\n",
       "      <th>schoolsup</th>\n",
       "      <th>famsup</th>\n",
       "      <th>paid</th>\n",
       "      <th>activities</th>\n",
       "      <th>nursery</th>\n",
       "      <th>higher</th>\n",
       "      <th>internet</th>\n",
       "      <th>romantic</th>\n",
       "      <th>famrel</th>\n",
       "      <th>freetime</th>\n",
       "      <th>goout</th>\n",
       "      <th>Dalc</th>\n",
       "      <th>Walc</th>\n",
       "      <th>health</th>\n",
       "      <th>absences</th>\n",
       "      <th>G1</th>\n",
       "      <th>G2</th>\n",
       "    </tr>\n",
       "  </thead>\n",
       "  <tbody>\n",
       "    <tr>\n",
       "      <th>215</th>\n",
       "      <td>GP</td>\n",
       "      <td>F</td>\n",
       "      <td>17</td>\n",
       "      <td>U</td>\n",
       "      <td>LE3</td>\n",
       "      <td>T</td>\n",
       "      <td>3</td>\n",
       "      <td>2</td>\n",
       "      <td>other</td>\n",
       "      <td>other</td>\n",
       "      <td>reputation</td>\n",
       "      <td>mother</td>\n",
       "      <td>2</td>\n",
       "      <td>2</td>\n",
       "      <td>0</td>\n",
       "      <td>no</td>\n",
       "      <td>no</td>\n",
       "      <td>yes</td>\n",
       "      <td>no</td>\n",
       "      <td>yes</td>\n",
       "      <td>yes</td>\n",
       "      <td>yes</td>\n",
       "      <td>no</td>\n",
       "      <td>4</td>\n",
       "      <td>4</td>\n",
       "      <td>4</td>\n",
       "      <td>1</td>\n",
       "      <td>3</td>\n",
       "      <td>1</td>\n",
       "      <td>2</td>\n",
       "      <td>14</td>\n",
       "      <td>15</td>\n",
       "    </tr>\n",
       "    <tr>\n",
       "      <th>48</th>\n",
       "      <td>GP</td>\n",
       "      <td>M</td>\n",
       "      <td>15</td>\n",
       "      <td>U</td>\n",
       "      <td>GT3</td>\n",
       "      <td>T</td>\n",
       "      <td>4</td>\n",
       "      <td>2</td>\n",
       "      <td>teacher</td>\n",
       "      <td>other</td>\n",
       "      <td>home</td>\n",
       "      <td>mother</td>\n",
       "      <td>1</td>\n",
       "      <td>2</td>\n",
       "      <td>0</td>\n",
       "      <td>no</td>\n",
       "      <td>yes</td>\n",
       "      <td>yes</td>\n",
       "      <td>no</td>\n",
       "      <td>yes</td>\n",
       "      <td>yes</td>\n",
       "      <td>no</td>\n",
       "      <td>no</td>\n",
       "      <td>4</td>\n",
       "      <td>3</td>\n",
       "      <td>3</td>\n",
       "      <td>2</td>\n",
       "      <td>2</td>\n",
       "      <td>5</td>\n",
       "      <td>2</td>\n",
       "      <td>15</td>\n",
       "      <td>15</td>\n",
       "    </tr>\n",
       "    <tr>\n",
       "      <th>303</th>\n",
       "      <td>GP</td>\n",
       "      <td>F</td>\n",
       "      <td>17</td>\n",
       "      <td>U</td>\n",
       "      <td>GT3</td>\n",
       "      <td>T</td>\n",
       "      <td>3</td>\n",
       "      <td>2</td>\n",
       "      <td>health</td>\n",
       "      <td>health</td>\n",
       "      <td>reputation</td>\n",
       "      <td>father</td>\n",
       "      <td>1</td>\n",
       "      <td>4</td>\n",
       "      <td>0</td>\n",
       "      <td>no</td>\n",
       "      <td>yes</td>\n",
       "      <td>yes</td>\n",
       "      <td>yes</td>\n",
       "      <td>no</td>\n",
       "      <td>yes</td>\n",
       "      <td>yes</td>\n",
       "      <td>no</td>\n",
       "      <td>5</td>\n",
       "      <td>2</td>\n",
       "      <td>2</td>\n",
       "      <td>1</td>\n",
       "      <td>2</td>\n",
       "      <td>5</td>\n",
       "      <td>0</td>\n",
       "      <td>17</td>\n",
       "      <td>17</td>\n",
       "    </tr>\n",
       "    <tr>\n",
       "      <th>160</th>\n",
       "      <td>GP</td>\n",
       "      <td>M</td>\n",
       "      <td>17</td>\n",
       "      <td>R</td>\n",
       "      <td>LE3</td>\n",
       "      <td>T</td>\n",
       "      <td>2</td>\n",
       "      <td>1</td>\n",
       "      <td>at_home</td>\n",
       "      <td>other</td>\n",
       "      <td>course</td>\n",
       "      <td>mother</td>\n",
       "      <td>2</td>\n",
       "      <td>1</td>\n",
       "      <td>2</td>\n",
       "      <td>no</td>\n",
       "      <td>no</td>\n",
       "      <td>no</td>\n",
       "      <td>yes</td>\n",
       "      <td>yes</td>\n",
       "      <td>no</td>\n",
       "      <td>yes</td>\n",
       "      <td>yes</td>\n",
       "      <td>3</td>\n",
       "      <td>3</td>\n",
       "      <td>2</td>\n",
       "      <td>2</td>\n",
       "      <td>2</td>\n",
       "      <td>5</td>\n",
       "      <td>0</td>\n",
       "      <td>7</td>\n",
       "      <td>6</td>\n",
       "    </tr>\n",
       "    <tr>\n",
       "      <th>60</th>\n",
       "      <td>GP</td>\n",
       "      <td>F</td>\n",
       "      <td>16</td>\n",
       "      <td>R</td>\n",
       "      <td>GT3</td>\n",
       "      <td>T</td>\n",
       "      <td>4</td>\n",
       "      <td>4</td>\n",
       "      <td>health</td>\n",
       "      <td>teacher</td>\n",
       "      <td>other</td>\n",
       "      <td>mother</td>\n",
       "      <td>1</td>\n",
       "      <td>2</td>\n",
       "      <td>0</td>\n",
       "      <td>no</td>\n",
       "      <td>yes</td>\n",
       "      <td>no</td>\n",
       "      <td>yes</td>\n",
       "      <td>yes</td>\n",
       "      <td>yes</td>\n",
       "      <td>no</td>\n",
       "      <td>no</td>\n",
       "      <td>2</td>\n",
       "      <td>4</td>\n",
       "      <td>4</td>\n",
       "      <td>2</td>\n",
       "      <td>3</td>\n",
       "      <td>4</td>\n",
       "      <td>6</td>\n",
       "      <td>10</td>\n",
       "      <td>11</td>\n",
       "    </tr>\n",
       "  </tbody>\n",
       "</table>\n",
       "</div>"
      ],
      "text/plain": [
       "    school sex  age address famsize Pstatus  Medu  Fedu     Mjob     Fjob  \\\n",
       "215     GP   F   17       U     LE3       T     3     2    other    other   \n",
       "48      GP   M   15       U     GT3       T     4     2  teacher    other   \n",
       "303     GP   F   17       U     GT3       T     3     2   health   health   \n",
       "160     GP   M   17       R     LE3       T     2     1  at_home    other   \n",
       "60      GP   F   16       R     GT3       T     4     4   health  teacher   \n",
       "\n",
       "         reason guardian  traveltime  studytime  failures schoolsup famsup  \\\n",
       "215  reputation   mother           2          2         0        no     no   \n",
       "48         home   mother           1          2         0        no    yes   \n",
       "303  reputation   father           1          4         0        no    yes   \n",
       "160      course   mother           2          1         2        no     no   \n",
       "60        other   mother           1          2         0        no    yes   \n",
       "\n",
       "    paid activities nursery higher internet romantic  famrel  freetime  goout  \\\n",
       "215  yes         no     yes    yes      yes       no       4         4      4   \n",
       "48   yes         no     yes    yes       no       no       4         3      3   \n",
       "303  yes        yes      no    yes      yes       no       5         2      2   \n",
       "160   no        yes     yes     no      yes      yes       3         3      2   \n",
       "60    no        yes     yes    yes       no       no       2         4      4   \n",
       "\n",
       "     Dalc  Walc  health  absences  G1  G2  \n",
       "215     1     3       1         2  14  15  \n",
       "48      2     2       5         2  15  15  \n",
       "303     1     2       5         0  17  17  \n",
       "160     2     2       5         0   7   6  \n",
       "60      2     3       4         6  10  11  "
      ]
     },
     "execution_count": 4,
     "metadata": {},
     "output_type": "execute_result"
    }
   ],
   "source": [
    "y = df['G3']\n",
    "X = df.drop(columns='G3')\n",
    "\n",
    "## train-test-split with random state for reproducibility\n",
    "X_train, X_test, y_train, y_test = train_test_split(X,y, random_state=SEED)\n",
    "X_train.head()"
   ]
  },
  {
   "cell_type": "code",
   "execution_count": 5,
   "id": "702f52a0",
   "metadata": {
    "scrolled": true
   },
   "outputs": [
    {
     "data": {
      "text/html": [
       "<style>#sk-container-id-1 {color: black;background-color: white;}#sk-container-id-1 pre{padding: 0;}#sk-container-id-1 div.sk-toggleable {background-color: white;}#sk-container-id-1 label.sk-toggleable__label {cursor: pointer;display: block;width: 100%;margin-bottom: 0;padding: 0.3em;box-sizing: border-box;text-align: center;}#sk-container-id-1 label.sk-toggleable__label-arrow:before {content: \"▸\";float: left;margin-right: 0.25em;color: #696969;}#sk-container-id-1 label.sk-toggleable__label-arrow:hover:before {color: black;}#sk-container-id-1 div.sk-estimator:hover label.sk-toggleable__label-arrow:before {color: black;}#sk-container-id-1 div.sk-toggleable__content {max-height: 0;max-width: 0;overflow: hidden;text-align: left;background-color: #f0f8ff;}#sk-container-id-1 div.sk-toggleable__content pre {margin: 0.2em;color: black;border-radius: 0.25em;background-color: #f0f8ff;}#sk-container-id-1 input.sk-toggleable__control:checked~div.sk-toggleable__content {max-height: 200px;max-width: 100%;overflow: auto;}#sk-container-id-1 input.sk-toggleable__control:checked~label.sk-toggleable__label-arrow:before {content: \"▾\";}#sk-container-id-1 div.sk-estimator input.sk-toggleable__control:checked~label.sk-toggleable__label {background-color: #d4ebff;}#sk-container-id-1 div.sk-label input.sk-toggleable__control:checked~label.sk-toggleable__label {background-color: #d4ebff;}#sk-container-id-1 input.sk-hidden--visually {border: 0;clip: rect(1px 1px 1px 1px);clip: rect(1px, 1px, 1px, 1px);height: 1px;margin: -1px;overflow: hidden;padding: 0;position: absolute;width: 1px;}#sk-container-id-1 div.sk-estimator {font-family: monospace;background-color: #f0f8ff;border: 1px dotted black;border-radius: 0.25em;box-sizing: border-box;margin-bottom: 0.5em;}#sk-container-id-1 div.sk-estimator:hover {background-color: #d4ebff;}#sk-container-id-1 div.sk-parallel-item::after {content: \"\";width: 100%;border-bottom: 1px solid gray;flex-grow: 1;}#sk-container-id-1 div.sk-label:hover label.sk-toggleable__label {background-color: #d4ebff;}#sk-container-id-1 div.sk-serial::before {content: \"\";position: absolute;border-left: 1px solid gray;box-sizing: border-box;top: 0;bottom: 0;left: 50%;z-index: 0;}#sk-container-id-1 div.sk-serial {display: flex;flex-direction: column;align-items: center;background-color: white;padding-right: 0.2em;padding-left: 0.2em;position: relative;}#sk-container-id-1 div.sk-item {position: relative;z-index: 1;}#sk-container-id-1 div.sk-parallel {display: flex;align-items: stretch;justify-content: center;background-color: white;position: relative;}#sk-container-id-1 div.sk-item::before, #sk-container-id-1 div.sk-parallel-item::before {content: \"\";position: absolute;border-left: 1px solid gray;box-sizing: border-box;top: 0;bottom: 0;left: 50%;z-index: -1;}#sk-container-id-1 div.sk-parallel-item {display: flex;flex-direction: column;z-index: 1;position: relative;background-color: white;}#sk-container-id-1 div.sk-parallel-item:first-child::after {align-self: flex-end;width: 50%;}#sk-container-id-1 div.sk-parallel-item:last-child::after {align-self: flex-start;width: 50%;}#sk-container-id-1 div.sk-parallel-item:only-child::after {width: 0;}#sk-container-id-1 div.sk-dashed-wrapped {border: 1px dashed gray;margin: 0 0.4em 0.5em 0.4em;box-sizing: border-box;padding-bottom: 0.4em;background-color: white;}#sk-container-id-1 div.sk-label label {font-family: monospace;font-weight: bold;display: inline-block;line-height: 1.2em;}#sk-container-id-1 div.sk-label-container {text-align: center;}#sk-container-id-1 div.sk-container {/* jupyter's `normalize.less` sets `[hidden] { display: none; }` but bootstrap.min.css set `[hidden] { display: none !important; }` so we also need the `!important` here to be able to override the default hidden behavior on the sphinx rendered scikit-learn.org. See: https://github.com/scikit-learn/scikit-learn/issues/21755 */display: inline-block !important;position: relative;}#sk-container-id-1 div.sk-text-repr-fallback {display: none;}</style><div id=\"sk-container-id-1\" class=\"sk-top-container\"><div class=\"sk-text-repr-fallback\"><pre>ColumnTransformer(transformers=[(&#x27;pipeline-1&#x27;,\n",
       "                                 Pipeline(steps=[(&#x27;simpleimputer&#x27;,\n",
       "                                                  SimpleImputer())]),\n",
       "                                 &lt;sklearn.compose._column_transformer.make_column_selector object at 0x000001F75C5730D0&gt;),\n",
       "                                (&#x27;pipeline-2&#x27;,\n",
       "                                 Pipeline(steps=[(&#x27;simpleimputer&#x27;,\n",
       "                                                  SimpleImputer(fill_value=&#x27;MISSING&#x27;,\n",
       "                                                                strategy=&#x27;constant&#x27;)),\n",
       "                                                 (&#x27;onehotencoder&#x27;,\n",
       "                                                  OneHotEncoder(drop=&#x27;if_binary&#x27;,\n",
       "                                                                sparse=False))]),\n",
       "                                 &lt;sklearn.compose._column_transformer.make_column_selector object at 0x000001F75C573070&gt;)],\n",
       "                  verbose_feature_names_out=False)</pre><b>In a Jupyter environment, please rerun this cell to show the HTML representation or trust the notebook. <br />On GitHub, the HTML representation is unable to render, please try loading this page with nbviewer.org.</b></div><div class=\"sk-container\" hidden><div class=\"sk-item sk-dashed-wrapped\"><div class=\"sk-label-container\"><div class=\"sk-label sk-toggleable\"><input class=\"sk-toggleable__control sk-hidden--visually\" id=\"sk-estimator-id-1\" type=\"checkbox\" ><label for=\"sk-estimator-id-1\" class=\"sk-toggleable__label sk-toggleable__label-arrow\">ColumnTransformer</label><div class=\"sk-toggleable__content\"><pre>ColumnTransformer(transformers=[(&#x27;pipeline-1&#x27;,\n",
       "                                 Pipeline(steps=[(&#x27;simpleimputer&#x27;,\n",
       "                                                  SimpleImputer())]),\n",
       "                                 &lt;sklearn.compose._column_transformer.make_column_selector object at 0x000001F75C5730D0&gt;),\n",
       "                                (&#x27;pipeline-2&#x27;,\n",
       "                                 Pipeline(steps=[(&#x27;simpleimputer&#x27;,\n",
       "                                                  SimpleImputer(fill_value=&#x27;MISSING&#x27;,\n",
       "                                                                strategy=&#x27;constant&#x27;)),\n",
       "                                                 (&#x27;onehotencoder&#x27;,\n",
       "                                                  OneHotEncoder(drop=&#x27;if_binary&#x27;,\n",
       "                                                                sparse=False))]),\n",
       "                                 &lt;sklearn.compose._column_transformer.make_column_selector object at 0x000001F75C573070&gt;)],\n",
       "                  verbose_feature_names_out=False)</pre></div></div></div><div class=\"sk-parallel\"><div class=\"sk-parallel-item\"><div class=\"sk-item\"><div class=\"sk-label-container\"><div class=\"sk-label sk-toggleable\"><input class=\"sk-toggleable__control sk-hidden--visually\" id=\"sk-estimator-id-2\" type=\"checkbox\" ><label for=\"sk-estimator-id-2\" class=\"sk-toggleable__label sk-toggleable__label-arrow\">pipeline-1</label><div class=\"sk-toggleable__content\"><pre>&lt;sklearn.compose._column_transformer.make_column_selector object at 0x000001F75C5730D0&gt;</pre></div></div></div><div class=\"sk-serial\"><div class=\"sk-item\"><div class=\"sk-serial\"><div class=\"sk-item\"><div class=\"sk-estimator sk-toggleable\"><input class=\"sk-toggleable__control sk-hidden--visually\" id=\"sk-estimator-id-3\" type=\"checkbox\" ><label for=\"sk-estimator-id-3\" class=\"sk-toggleable__label sk-toggleable__label-arrow\">SimpleImputer</label><div class=\"sk-toggleable__content\"><pre>SimpleImputer()</pre></div></div></div></div></div></div></div></div><div class=\"sk-parallel-item\"><div class=\"sk-item\"><div class=\"sk-label-container\"><div class=\"sk-label sk-toggleable\"><input class=\"sk-toggleable__control sk-hidden--visually\" id=\"sk-estimator-id-4\" type=\"checkbox\" ><label for=\"sk-estimator-id-4\" class=\"sk-toggleable__label sk-toggleable__label-arrow\">pipeline-2</label><div class=\"sk-toggleable__content\"><pre>&lt;sklearn.compose._column_transformer.make_column_selector object at 0x000001F75C573070&gt;</pre></div></div></div><div class=\"sk-serial\"><div class=\"sk-item\"><div class=\"sk-serial\"><div class=\"sk-item\"><div class=\"sk-estimator sk-toggleable\"><input class=\"sk-toggleable__control sk-hidden--visually\" id=\"sk-estimator-id-5\" type=\"checkbox\" ><label for=\"sk-estimator-id-5\" class=\"sk-toggleable__label sk-toggleable__label-arrow\">SimpleImputer</label><div class=\"sk-toggleable__content\"><pre>SimpleImputer(fill_value=&#x27;MISSING&#x27;, strategy=&#x27;constant&#x27;)</pre></div></div></div><div class=\"sk-item\"><div class=\"sk-estimator sk-toggleable\"><input class=\"sk-toggleable__control sk-hidden--visually\" id=\"sk-estimator-id-6\" type=\"checkbox\" ><label for=\"sk-estimator-id-6\" class=\"sk-toggleable__label sk-toggleable__label-arrow\">OneHotEncoder</label><div class=\"sk-toggleable__content\"><pre>OneHotEncoder(drop=&#x27;if_binary&#x27;, sparse=False)</pre></div></div></div></div></div></div></div></div></div></div></div></div>"
      ],
      "text/plain": [
       "ColumnTransformer(transformers=[('pipeline-1',\n",
       "                                 Pipeline(steps=[('simpleimputer',\n",
       "                                                  SimpleImputer())]),\n",
       "                                 <sklearn.compose._column_transformer.make_column_selector object at 0x000001F75C5730D0>),\n",
       "                                ('pipeline-2',\n",
       "                                 Pipeline(steps=[('simpleimputer',\n",
       "                                                  SimpleImputer(fill_value='MISSING',\n",
       "                                                                strategy='constant')),\n",
       "                                                 ('onehotencoder',\n",
       "                                                  OneHotEncoder(drop='if_binary',\n",
       "                                                                sparse=False))]),\n",
       "                                 <sklearn.compose._column_transformer.make_column_selector object at 0x000001F75C573070>)],\n",
       "                  verbose_feature_names_out=False)"
      ]
     },
     "execution_count": 5,
     "metadata": {},
     "output_type": "execute_result"
    }
   ],
   "source": [
    "## make pipelines for categorical vs numeric data\n",
    "cat_sel = make_column_selector(dtype_include='object')\n",
    "cat_pipe = make_pipeline(SimpleImputer(strategy='constant',\n",
    "                                       fill_value='MISSING'),\n",
    "                         OneHotEncoder(drop='if_binary', sparse=False)\n",
    "                        )\n",
    "\n",
    "num_sel = make_column_selector(dtype_include='number')\n",
    "num_pipe = make_pipeline(SimpleImputer(strategy='mean'))\n",
    "\n",
    "\n",
    "## make the preprocessing column transformer with verbose_feature_names_out=False\n",
    "preprocessor = make_column_transformer((num_pipe, num_sel),\n",
    "                                       (cat_pipe,cat_sel),\n",
    "                                      verbose_feature_names_out=False)\n",
    "preprocessor"
   ]
  },
  {
   "cell_type": "code",
   "execution_count": 6,
   "id": "c143c390",
   "metadata": {
    "scrolled": true
   },
   "outputs": [
    {
     "data": {
      "text/html": [
       "<div>\n",
       "<style scoped>\n",
       "    .dataframe tbody tr th:only-of-type {\n",
       "        vertical-align: middle;\n",
       "    }\n",
       "\n",
       "    .dataframe tbody tr th {\n",
       "        vertical-align: top;\n",
       "    }\n",
       "\n",
       "    .dataframe thead th {\n",
       "        text-align: right;\n",
       "    }\n",
       "</style>\n",
       "<table border=\"1\" class=\"dataframe\">\n",
       "  <thead>\n",
       "    <tr style=\"text-align: right;\">\n",
       "      <th></th>\n",
       "      <th>age</th>\n",
       "      <th>Medu</th>\n",
       "      <th>Fedu</th>\n",
       "      <th>traveltime</th>\n",
       "      <th>studytime</th>\n",
       "      <th>failures</th>\n",
       "      <th>famrel</th>\n",
       "      <th>freetime</th>\n",
       "      <th>goout</th>\n",
       "      <th>Dalc</th>\n",
       "      <th>Walc</th>\n",
       "      <th>health</th>\n",
       "      <th>absences</th>\n",
       "      <th>G1</th>\n",
       "      <th>G2</th>\n",
       "      <th>school_MS</th>\n",
       "      <th>sex_M</th>\n",
       "      <th>address_U</th>\n",
       "      <th>famsize_LE3</th>\n",
       "      <th>Pstatus_T</th>\n",
       "      <th>Mjob_at_home</th>\n",
       "      <th>Mjob_health</th>\n",
       "      <th>Mjob_other</th>\n",
       "      <th>Mjob_services</th>\n",
       "      <th>Mjob_teacher</th>\n",
       "      <th>Fjob_at_home</th>\n",
       "      <th>Fjob_health</th>\n",
       "      <th>Fjob_other</th>\n",
       "      <th>Fjob_services</th>\n",
       "      <th>Fjob_teacher</th>\n",
       "      <th>reason_course</th>\n",
       "      <th>reason_home</th>\n",
       "      <th>reason_other</th>\n",
       "      <th>reason_reputation</th>\n",
       "      <th>guardian_father</th>\n",
       "      <th>guardian_mother</th>\n",
       "      <th>guardian_other</th>\n",
       "      <th>schoolsup_yes</th>\n",
       "      <th>famsup_yes</th>\n",
       "      <th>paid_yes</th>\n",
       "      <th>activities_yes</th>\n",
       "      <th>nursery_yes</th>\n",
       "      <th>higher_yes</th>\n",
       "      <th>internet_yes</th>\n",
       "      <th>romantic_yes</th>\n",
       "    </tr>\n",
       "  </thead>\n",
       "  <tbody>\n",
       "    <tr>\n",
       "      <th>58</th>\n",
       "      <td>15.0</td>\n",
       "      <td>1.0</td>\n",
       "      <td>2.0</td>\n",
       "      <td>1.0</td>\n",
       "      <td>2.0</td>\n",
       "      <td>0.0</td>\n",
       "      <td>4.0</td>\n",
       "      <td>3.0</td>\n",
       "      <td>2.0</td>\n",
       "      <td>1.0</td>\n",
       "      <td>1.0</td>\n",
       "      <td>5.0</td>\n",
       "      <td>2.0</td>\n",
       "      <td>9.0</td>\n",
       "      <td>10.0</td>\n",
       "      <td>0.0</td>\n",
       "      <td>1.0</td>\n",
       "      <td>1.0</td>\n",
       "      <td>1.0</td>\n",
       "      <td>1.0</td>\n",
       "      <td>0.0</td>\n",
       "      <td>0.0</td>\n",
       "      <td>1.0</td>\n",
       "      <td>0.0</td>\n",
       "      <td>0.0</td>\n",
       "      <td>1.0</td>\n",
       "      <td>0.0</td>\n",
       "      <td>0.0</td>\n",
       "      <td>0.0</td>\n",
       "      <td>0.0</td>\n",
       "      <td>0.0</td>\n",
       "      <td>1.0</td>\n",
       "      <td>0.0</td>\n",
       "      <td>0.0</td>\n",
       "      <td>1.0</td>\n",
       "      <td>0.0</td>\n",
       "      <td>0.0</td>\n",
       "      <td>1.0</td>\n",
       "      <td>1.0</td>\n",
       "      <td>0.0</td>\n",
       "      <td>1.0</td>\n",
       "      <td>1.0</td>\n",
       "      <td>1.0</td>\n",
       "      <td>1.0</td>\n",
       "      <td>0.0</td>\n",
       "    </tr>\n",
       "    <tr>\n",
       "      <th>338</th>\n",
       "      <td>18.0</td>\n",
       "      <td>3.0</td>\n",
       "      <td>3.0</td>\n",
       "      <td>1.0</td>\n",
       "      <td>4.0</td>\n",
       "      <td>0.0</td>\n",
       "      <td>5.0</td>\n",
       "      <td>3.0</td>\n",
       "      <td>3.0</td>\n",
       "      <td>1.0</td>\n",
       "      <td>1.0</td>\n",
       "      <td>1.0</td>\n",
       "      <td>7.0</td>\n",
       "      <td>16.0</td>\n",
       "      <td>15.0</td>\n",
       "      <td>0.0</td>\n",
       "      <td>0.0</td>\n",
       "      <td>1.0</td>\n",
       "      <td>1.0</td>\n",
       "      <td>1.0</td>\n",
       "      <td>0.0</td>\n",
       "      <td>0.0</td>\n",
       "      <td>0.0</td>\n",
       "      <td>1.0</td>\n",
       "      <td>0.0</td>\n",
       "      <td>0.0</td>\n",
       "      <td>0.0</td>\n",
       "      <td>0.0</td>\n",
       "      <td>1.0</td>\n",
       "      <td>0.0</td>\n",
       "      <td>0.0</td>\n",
       "      <td>1.0</td>\n",
       "      <td>0.0</td>\n",
       "      <td>0.0</td>\n",
       "      <td>0.0</td>\n",
       "      <td>1.0</td>\n",
       "      <td>0.0</td>\n",
       "      <td>0.0</td>\n",
       "      <td>1.0</td>\n",
       "      <td>0.0</td>\n",
       "      <td>0.0</td>\n",
       "      <td>1.0</td>\n",
       "      <td>1.0</td>\n",
       "      <td>1.0</td>\n",
       "      <td>0.0</td>\n",
       "    </tr>\n",
       "    <tr>\n",
       "      <th>291</th>\n",
       "      <td>17.0</td>\n",
       "      <td>4.0</td>\n",
       "      <td>3.0</td>\n",
       "      <td>1.0</td>\n",
       "      <td>3.0</td>\n",
       "      <td>0.0</td>\n",
       "      <td>4.0</td>\n",
       "      <td>2.0</td>\n",
       "      <td>2.0</td>\n",
       "      <td>1.0</td>\n",
       "      <td>2.0</td>\n",
       "      <td>3.0</td>\n",
       "      <td>0.0</td>\n",
       "      <td>15.0</td>\n",
       "      <td>15.0</td>\n",
       "      <td>0.0</td>\n",
       "      <td>0.0</td>\n",
       "      <td>1.0</td>\n",
       "      <td>0.0</td>\n",
       "      <td>1.0</td>\n",
       "      <td>0.0</td>\n",
       "      <td>1.0</td>\n",
       "      <td>0.0</td>\n",
       "      <td>0.0</td>\n",
       "      <td>0.0</td>\n",
       "      <td>0.0</td>\n",
       "      <td>0.0</td>\n",
       "      <td>0.0</td>\n",
       "      <td>1.0</td>\n",
       "      <td>0.0</td>\n",
       "      <td>0.0</td>\n",
       "      <td>0.0</td>\n",
       "      <td>0.0</td>\n",
       "      <td>1.0</td>\n",
       "      <td>0.0</td>\n",
       "      <td>1.0</td>\n",
       "      <td>0.0</td>\n",
       "      <td>0.0</td>\n",
       "      <td>1.0</td>\n",
       "      <td>1.0</td>\n",
       "      <td>0.0</td>\n",
       "      <td>1.0</td>\n",
       "      <td>1.0</td>\n",
       "      <td>1.0</td>\n",
       "      <td>0.0</td>\n",
       "    </tr>\n",
       "  </tbody>\n",
       "</table>\n",
       "</div>"
      ],
      "text/plain": [
       "      age  Medu  Fedu  traveltime  studytime  failures  famrel  freetime  \\\n",
       "58   15.0   1.0   2.0         1.0        2.0       0.0     4.0       3.0   \n",
       "338  18.0   3.0   3.0         1.0        4.0       0.0     5.0       3.0   \n",
       "291  17.0   4.0   3.0         1.0        3.0       0.0     4.0       2.0   \n",
       "\n",
       "     goout  Dalc  Walc  health  absences    G1    G2  school_MS  sex_M  \\\n",
       "58     2.0   1.0   1.0     5.0       2.0   9.0  10.0        0.0    1.0   \n",
       "338    3.0   1.0   1.0     1.0       7.0  16.0  15.0        0.0    0.0   \n",
       "291    2.0   1.0   2.0     3.0       0.0  15.0  15.0        0.0    0.0   \n",
       "\n",
       "     address_U  famsize_LE3  Pstatus_T  Mjob_at_home  Mjob_health  Mjob_other  \\\n",
       "58         1.0          1.0        1.0           0.0          0.0         1.0   \n",
       "338        1.0          1.0        1.0           0.0          0.0         0.0   \n",
       "291        1.0          0.0        1.0           0.0          1.0         0.0   \n",
       "\n",
       "     Mjob_services  Mjob_teacher  Fjob_at_home  Fjob_health  Fjob_other  \\\n",
       "58             0.0           0.0           1.0          0.0         0.0   \n",
       "338            1.0           0.0           0.0          0.0         0.0   \n",
       "291            0.0           0.0           0.0          0.0         0.0   \n",
       "\n",
       "     Fjob_services  Fjob_teacher  reason_course  reason_home  reason_other  \\\n",
       "58             0.0           0.0            0.0          1.0           0.0   \n",
       "338            1.0           0.0            0.0          1.0           0.0   \n",
       "291            1.0           0.0            0.0          0.0           0.0   \n",
       "\n",
       "     reason_reputation  guardian_father  guardian_mother  guardian_other  \\\n",
       "58                 0.0              1.0              0.0             0.0   \n",
       "338                0.0              0.0              1.0             0.0   \n",
       "291                1.0              0.0              1.0             0.0   \n",
       "\n",
       "     schoolsup_yes  famsup_yes  paid_yes  activities_yes  nursery_yes  \\\n",
       "58             1.0         1.0       0.0             1.0          1.0   \n",
       "338            0.0         1.0       0.0             0.0          1.0   \n",
       "291            0.0         1.0       1.0             0.0          1.0   \n",
       "\n",
       "     higher_yes  internet_yes  romantic_yes  \n",
       "58          1.0           1.0           0.0  \n",
       "338         1.0           1.0           0.0  \n",
       "291         1.0           1.0           0.0  "
      ]
     },
     "execution_count": 6,
     "metadata": {},
     "output_type": "execute_result"
    }
   ],
   "source": [
    "## fit column transformer and run get_feature_names_out\n",
    "preprocessor.fit(X_train)\n",
    "feature_names = preprocessor.get_feature_names_out()\n",
    "\n",
    "\n",
    "X_train_df = pd.DataFrame(preprocessor.transform(X_train), \n",
    "                          columns = feature_names, index = X_train.index)\n",
    "\n",
    "X_test_df = pd.DataFrame(preprocessor.transform(X_test), \n",
    "                          columns = feature_names, index = X_test.index)\n",
    "X_test_df.head(3)"
   ]
  },
  {
   "cell_type": "markdown",
   "id": "7a0b4204",
   "metadata": {},
   "source": [
    "## Second, fit a tree-based model of your choice (that produces feature importances)."
   ]
  },
  {
   "cell_type": "markdown",
   "id": "5b732f56",
   "metadata": {},
   "source": [
    "- A: Evaluate its performance on the training and test data.\n",
    "- B: extract and visualize the feature importances determined by the model.\n",
    "- C: Answer what were the top 5 most important features?"
   ]
  },
  {
   "cell_type": "code",
   "execution_count": 7,
   "id": "e706628d",
   "metadata": {},
   "outputs": [],
   "source": [
    "def evaluate_regression(model, X_train,y_train, X_test, y_test): \n",
    "    \"\"\"Evaluates a scikit-learn-compatible regression model using r-squared and RMSE\n",
    "\n",
    "    Args:\n",
    "        model (Regressor): Regression Model with a .predict method\n",
    "        X_train (DataFrame): Training Features\n",
    "        y_train (Series): Training Target\n",
    "        X_test (DataFrame): Test Features\n",
    "        y_test (Series): Test Target\n",
    "    \"\"\"\n",
    "\n",
    "    ## Training Data\n",
    "    y_pred_train = model.predict(X_train)\n",
    "    r2_train = metrics.r2_score(y_train, y_pred_train)\n",
    "    rmse_train = metrics.mean_squared_error(y_train, y_pred_train, \n",
    "                                            squared=False)\n",
    "    \n",
    "    print(f\"Training Data:\\tR^2= {r2_train:.2f}\\tRMSE= {rmse_train:.2f}\")\n",
    "        \n",
    "    \n",
    "    ## Test Data\n",
    "    y_pred_test = model.predict(X_test)\n",
    "    r2_test = metrics.r2_score(y_test, y_pred_test)\n",
    "    rmse_test = metrics.mean_squared_error(y_test, y_pred_test, \n",
    "                                            squared=False)\n",
    "    \n",
    "    print(f\"Test Data:\\tR^2= {r2_test:.2f}\\tRMSE= {rmse_test:.2f}\")\n",
    "    "
   ]
  },
  {
   "cell_type": "markdown",
   "id": "9a8863a9",
   "metadata": {},
   "source": [
    "### A: Evaluate its performance on the training and test data."
   ]
  },
  {
   "cell_type": "code",
   "execution_count": 8,
   "id": "a7dc65e2",
   "metadata": {},
   "outputs": [
    {
     "name": "stdout",
     "output_type": "stream",
     "text": [
      "Training Data:\tR^2= 0.98\tRMSE= 0.66\n",
      "Test Data:\tR^2= 0.91\tRMSE= 1.24\n"
     ]
    }
   ],
   "source": [
    "reg = RandomForestRegressor()\n",
    "reg.fit(X_train_df,y_train)\n",
    "evaluate_regression(reg, X_train_df, y_train, X_test_df,y_test)"
   ]
  },
  {
   "cell_type": "markdown",
   "id": "db555dfd",
   "metadata": {},
   "source": [
    "### B: extract and visualize the feature importances determined by the model."
   ]
  },
  {
   "cell_type": "code",
   "execution_count": 9,
   "id": "8bcb3ed4",
   "metadata": {
    "ExecuteTime": {
     "end_time": "2022-11-11T18:57:10.120288Z",
     "start_time": "2022-11-11T18:57:10.117211Z"
    }
   },
   "outputs": [
    {
     "data": {
      "text/plain": [
       "age           0.015323\n",
       "Medu          0.004930\n",
       "Fedu          0.004105\n",
       "traveltime    0.002238\n",
       "studytime     0.008951\n",
       "Name: Feature Importances, dtype: float64"
      ]
     },
     "execution_count": 9,
     "metadata": {},
     "output_type": "execute_result"
    }
   ],
   "source": [
    "feature_importance = pd.Series(reg.feature_importances_, index=feature_names,\n",
    "                        name='Feature Importances')\n",
    "feature_importance.head()"
   ]
  },
  {
   "cell_type": "code",
   "execution_count": 10,
   "id": "af5f1cd1",
   "metadata": {
    "ExecuteTime": {
     "end_time": "2022-11-11T18:57:10.213783Z",
     "start_time": "2022-11-11T18:57:10.123435Z"
    }
   },
   "outputs": [
    {
     "data": {
      "image/png": "[encoded data removed]",
      "text/plain": [
       "<Figure size 400x600 with 1 Axes>"
      ]
     },
     "metadata": {},
     "output_type": "display_data"
    }
   ],
   "source": [
    "ax = feature_importance.sort_values().tail(10).plot(kind='barh',figsize=(4,6))\n",
    "ax.set(ylabel='Feature Name',xlabel='Feature Importance',\n",
    "       title='Top 10 Most Important Features');"
   ]
  },
  {
   "cell_type": "markdown",
   "id": "31ab086e",
   "metadata": {},
   "source": [
    "### C: Answer what were the top 5 most important features?"
   ]
  },
  {
   "cell_type": "markdown",
   "id": "5f4963ba",
   "metadata": {},
   "source": [
    "- G2\n",
    "- absences\n",
    "- age\n",
    "- studytime\n",
    "- health"
   ]
  },
  {
   "cell_type": "markdown",
   "id": "57181dbd",
   "metadata": {},
   "source": [
    "#### What does it mean that they were \"important\"?"
   ]
  },
  {
   "cell_type": "markdown",
   "id": "2f19b268",
   "metadata": {},
   "source": [
    "- An \"important' feature is one that was used extensively/repeatedly by the model when during the training process. Feature Importance does not indicate directionality."
   ]
  },
  {
   "cell_type": "markdown",
   "id": "d52f4597",
   "metadata": {},
   "source": [
    "## Third, apply sklearn's permutation_importance."
   ]
  },
  {
   "cell_type": "code",
   "execution_count": 11,
   "id": "75b50966",
   "metadata": {
    "ExecuteTime": {
     "end_time": "2022-11-11T18:57:10.636839Z",
     "start_time": "2022-11-11T18:57:10.215298Z"
    }
   },
   "outputs": [
    {
     "data": {
      "text/plain": [
       "dict_keys(['importances_mean', 'importances_std', 'importances'])"
      ]
     },
     "execution_count": 11,
     "metadata": {},
     "output_type": "execute_result"
    }
   ],
   "source": [
    "from sklearn.inspection import permutation_importance\n",
    "\n",
    "r = permutation_importance(reg, X_train_df, y_train ,n_repeats =5)\n",
    "r.keys()"
   ]
  },
  {
   "cell_type": "markdown",
   "id": "19f53eba",
   "metadata": {},
   "source": [
    "### A: visualize the permutation importances."
   ]
  },
  {
   "cell_type": "code",
   "execution_count": 12,
   "id": "8ec18f36",
   "metadata": {
    "ExecuteTime": {
     "end_time": "2022-11-11T18:57:10.641549Z",
     "start_time": "2022-11-11T18:57:10.638089Z"
    }
   },
   "outputs": [
    {
     "data": {
      "text/plain": [
       "age           0.021882\n",
       "Medu          0.004599\n",
       "Fedu          0.003292\n",
       "traveltime    0.001490\n",
       "studytime     0.010038\n",
       "Name: permutation importance, dtype: float64"
      ]
     },
     "execution_count": 12,
     "metadata": {},
     "output_type": "execute_result"
    }
   ],
   "source": [
    "## can make the mean importances into a series\n",
    "perm_importances = pd.Series(r['importances_mean'],index=X_train_df.columns,\n",
    "                           name = 'permutation importance')\n",
    "perm_importances.head()"
   ]
  },
  {
   "cell_type": "code",
   "execution_count": 13,
   "id": "3bc87c89",
   "metadata": {
    "ExecuteTime": {
     "end_time": "2022-11-11T18:57:10.719051Z",
     "start_time": "2022-11-11T18:57:10.642606Z"
    }
   },
   "outputs": [
    {
     "data": {
      "image/png": "[encoded data removed]",
      "text/plain": [
       "<Figure size 400x600 with 1 Axes>"
      ]
     },
     "metadata": {},
     "output_type": "display_data"
    }
   ],
   "source": [
    "ax = perm_importances.sort_values().tail(10).plot(kind='barh',figsize=(4,6))\n",
    "ax.set(ylabel='Feature Name',xlabel='Permutation Importance',\n",
    "       title='Top 10 Most Important Features: Permutation Importance');"
   ]
  },
  {
   "cell_type": "markdown",
   "id": "acfabdbf",
   "metadata": {},
   "source": [
    "### B: Answer what are the top 5 most important features the same as the top 5 most important features (according to our built-in importance)?"
   ]
  },
  {
   "cell_type": "markdown",
   "id": "7190baad",
   "metadata": {},
   "source": [
    "- G2\n",
    "- absences\n",
    "- age\n",
    "- studytikme\n",
    "- reason_home"
   ]
  },
  {
   "cell_type": "markdown",
   "id": "305f94e8",
   "metadata": {},
   "source": [
    "#### Are they the same features that your model has as the top 5 important?\n"
   ]
  },
  {
   "cell_type": "markdown",
   "id": "02954650",
   "metadata": {},
   "source": [
    "- The first top 4 are the same, but the 5th is different. It is reason_home in permutation importances (categorical), but health in the feature importances (numeric)"
   ]
  },
  {
   "cell_type": "markdown",
   "id": "39b5ee7c",
   "metadata": {},
   "source": [
    "## Fourth, Fit a sklearn LinearRegression model."
   ]
  },
  {
   "cell_type": "code",
   "execution_count": null,
   "id": "b0bb5e95",
   "metadata": {},
   "outputs": [],
   "source": []
  },
  {
   "cell_type": "markdown",
   "id": "91155f7a",
   "metadata": {},
   "source": [
    "## Linear Regression"
   ]
  },
  {
   "cell_type": "markdown",
   "id": "42c93224",
   "metadata": {},
   "source": [
    "### A: Evaluate its performance on the training & test data."
   ]
  },
  {
   "cell_type": "code",
   "execution_count": 14,
   "id": "aa81f183",
   "metadata": {},
   "outputs": [],
   "source": [
    "from sklearn.linear_model import LinearRegression"
   ]
  },
  {
   "cell_type": "code",
   "execution_count": 15,
   "id": "e884eafd",
   "metadata": {},
   "outputs": [
    {
     "name": "stdout",
     "output_type": "stream",
     "text": [
      "Training Data:\tR^2= 0.85\tRMSE= 1.83\n",
      "Test Data:\tR^2= 0.81\tRMSE= 1.85\n"
     ]
    }
   ],
   "source": [
    "lin_reg = LinearRegression()\n",
    "lin_reg.fit(X_train_df,y_train)\n",
    "evaluate_regression(lin_reg, X_train_df, y_train, X_test_df,y_test)"
   ]
  },
  {
   "cell_type": "markdown",
   "id": "5fb7a1d8",
   "metadata": {},
   "source": [
    "### B: visualize the model's top 15 largest coefficients (according to absolute value)."
   ]
  },
  {
   "cell_type": "markdown",
   "id": "8d6664a9",
   "metadata": {},
   "source": [
    "#### MANUAL WAY"
   ]
  },
  {
   "cell_type": "code",
   "execution_count": 16,
   "id": "b7f0a273",
   "metadata": {},
   "outputs": [
    {
     "data": {
      "text/plain": [
       "age          -0.220927\n",
       "Medu          0.291614\n",
       "Fedu         -0.178924\n",
       "traveltime    0.187168\n",
       "studytime    -0.215247\n",
       "Name: Coefficients, dtype: float64"
      ]
     },
     "execution_count": 16,
     "metadata": {},
     "output_type": "execute_result"
    }
   ],
   "source": [
    "coeffs = pd.Series(lin_reg.coef_, index=feature_names,\n",
    "                        name='Coefficients')\n",
    "coeffs.loc['intercept'] = lin_reg.intercept_\n",
    "coeffs.head()"
   ]
  },
  {
   "cell_type": "code",
   "execution_count": 17,
   "id": "395fa641",
   "metadata": {},
   "outputs": [
    {
     "data": {
      "text/plain": [
       "guardian_father     -5.861081e+11\n",
       "guardian_mother     -5.861081e+11\n",
       "guardian_other      -5.861081e+11\n",
       "reason_home         -2.157239e+11\n",
       "reason_course       -2.157239e+11\n",
       "reason_reputation   -2.157239e+11\n",
       "reason_other        -2.157239e+11\n",
       "Fjob_services       -1.081995e+11\n",
       "Fjob_other          -1.081995e+11\n",
       "Fjob_teacher        -1.081995e+11\n",
       "Fjob_at_home        -1.081995e+11\n",
       "Fjob_health         -1.081995e+11\n",
       "Mjob_teacher        -3.041738e+10\n",
       "Mjob_at_home        -3.041738e+10\n",
       "intercept            9.404489e+11\n",
       "Name: Coefficients, dtype: float64"
      ]
     },
     "execution_count": 17,
     "metadata": {},
     "output_type": "execute_result"
    }
   ],
   "source": [
    "## rank the coeffs and select the top_n\n",
    "top_n=15\n",
    "coeff_rank = coeffs.abs().rank().sort_values(ascending=False)\n",
    "top_n_features = coeff_rank.head(top_n)\n",
    "coeffs_plot = coeffs.loc[top_n_features.index].sort_values()\n",
    "coeffs_plot"
   ]
  },
  {
   "cell_type": "code",
   "execution_count": 18,
   "id": "49225910",
   "metadata": {},
   "outputs": [
    {
     "data": {
      "image/png": "[encoded data removed]",
      "text/plain": [
       "<Figure size 500x600 with 1 Axes>"
      ]
     },
     "metadata": {},
     "output_type": "display_data"
    }
   ],
   "source": [
    "## sort features and keep top_n and set title\n",
    "ax = coeffs_plot.sort_values().plot(kind='barh',figsize=(5,6))\n",
    "ax.axvline(0,color='k');\n",
    "ax.set(title = f\"Top {top_n} Largest Coefficients\",ylabel=\"Feature Name\",\n",
    "      xlabel='Coefficient');\n"
   ]
  },
  {
   "cell_type": "markdown",
   "id": "f9f9278d",
   "metadata": {},
   "source": [
    "#### FUNCTION WAY"
   ]
  },
  {
   "cell_type": "code",
   "execution_count": 19,
   "id": "19f0a9b9",
   "metadata": {},
   "outputs": [],
   "source": [
    "def plot_coeffs(coeffs, top_n=None,  figsize=(4,5), intercept=False, \n",
    "                annotate=False, ha='left',va='center', size=12, xytext=(4,0),\n",
    "                  textcoords='offset points'):\n",
    "    \"\"\"Plots the top_n coefficients from a Series, with optional annotations.\"\"\"\n",
    "    if (intercept==False) & ('intercept' in coeffs.index):\n",
    "        coeffs = coeffs.drop('intercept')\n",
    "    if top_n==None:\n",
    "        ## sort all features and set title\n",
    "        plot_vals = coeffs#.sort_values()\n",
    "        title = \"All Coefficients - Ranked by Magnitude\"\n",
    "    else:\n",
    "        ## rank the coeffs and select the top_n\n",
    "        coeff_rank = coeffs.abs().rank().sort_values(ascending=False)\n",
    "        top_n_features = coeff_rank.head(top_n)\n",
    "        plot_vals = coeffs.loc[top_n_features.index].sort_values()\n",
    "        ## sort features and keep top_n and set title\n",
    "        title = f\"Top {top_n} Largest Coefficients\"\n",
    "    ## plotting top N importances\n",
    "    ax = plot_vals.plot(kind='barh', figsize=figsize)\n",
    "    ax.set(xlabel='Coefficient', \n",
    "           ylabel='Feature Names', \n",
    "           title=title)\n",
    "    ax.axvline(0, color='k')\n",
    "    \n",
    "    if annotate==True:\n",
    "        annotate_hbars(ax, ha=ha,va=va,size=size,xytext=xytext,\n",
    "                       textcoords=textcoords)\n",
    "    ## return ax in case want to continue to update/modify figure\n",
    "    return ax\n",
    "\n",
    "def annotate_hbars(ax, ha='left',va='center',size=12,  xytext=(4,0),\n",
    "                  textcoords='offset points'):\n",
    "    for bar in ax.patches:\n",
    "    \n",
    "        ## calculate center of bar\n",
    "        bar_ax = bar.get_y() + bar.get_height()/2\n",
    "        ## get the value to annotate\n",
    "        val = bar.get_width()\n",
    "        if val < 0:\n",
    "            val_pos = 0\n",
    "        else:\n",
    "            val_pos = val\n",
    "        # ha and va stand for the horizontal and vertical alignment\n",
    "        ax.annotate(f\"{val:.3f}\", (val_pos,bar_ax), ha=ha,va=va,size=size,\n",
    "                        xytext=xytext, textcoords=textcoords)"
   ]
  },
  {
   "cell_type": "code",
   "execution_count": 20,
   "id": "2409d756",
   "metadata": {},
   "outputs": [
    {
     "data": {
      "image/png": "[encoded data removed]",
      "text/plain": [
       "<Figure size 400x500 with 1 Axes>"
      ]
     },
     "metadata": {},
     "output_type": "display_data"
    }
   ],
   "source": [
    "plot_coeffs(coeffs,top_n=15,intercept=False,annotate=True);"
   ]
  },
  {
   "cell_type": "markdown",
   "id": "3b7e1cff",
   "metadata": {},
   "source": [
    "### C: Select the 3 largest coefficients (by absolute value) and explain what they mean and what insights they might provide."
   ]
  },
  {
   "cell_type": "markdown",
   "id": "32041e8e",
   "metadata": {},
   "source": [
    "- The 3 largest coefficients are for: \n",
    "    - \"G2\"- for every 1 point increase in their G2 grade, their predicted G3 grade increases 0.99 points. \n",
    "    - \"higher_yes\" - if the student intends to go to pursue higher education, their predicted G3 grade increases by 0.82 points.\n",
    "    - \"Pstatus_T\" - if the students parents live together, their predicted G3 grade increases by 0.38 points.\n",
    "    "
   ]
  }
 ],
 "metadata": {
  "kernelspec": {
   "display_name": "Python (dojo-env)",
   "language": "python",
   "name": "dojo-env"
  },
  "language_info": {
   "codemirror_mode": {
    "name": "ipython",
    "version": 3
   },
   "file_extension": ".py",
   "mimetype": "text/x-python",
   "name": "python",
   "nbconvert_exporter": "python",
   "pygments_lexer": "ipython3",
   "version": "3.9.15"
  },
  "toc": {
   "base_numbering": 1,
   "nav_menu": {},
   "number_sections": false,
   "sideBar": true,
   "skip_h1_title": false,
   "title_cell": "Table of Contents",
   "title_sidebar": "Contents",
   "toc_cell": false,
   "toc_position": {
    "height": "calc(100% - 180px)",
    "left": "10px",
    "top": "150px",
    "width": "291.554px"
   },
   "toc_section_display": true,
   "toc_window_display": true
  }
 },
 "nbformat": 4,
 "nbformat_minor": 5
}
