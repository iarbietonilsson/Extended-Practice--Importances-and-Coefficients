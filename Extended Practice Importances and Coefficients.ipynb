{
 "cells": [
  {
   "cell_type": "markdown",
   "id": "b508e0bc",
   "metadata": {},
   "source": [
    "## Extended Practice: Importances and Coefficients\n",
    "---\n",
    "* ### Ingrid Arbieto Nelson"
   ]
  },
  {
   "cell_type": "markdown",
   "id": "aa75d246",
   "metadata": {
    "toc": true
   },
   "source": [
    "<h1>Table of Contents<span class=\"tocSkip\"></span></h1>\n",
    "<div class=\"toc\"><ul class=\"toc-item\"><li><span><a href=\"#Extended-Practice:-Importances-and-Coefficients\" data-toc-modified-id=\"Extended-Practice:-Importances-and-Coefficients-1\">Extended Practice: Importances and Coefficients</a></span><ul class=\"toc-item\"><li><span><a href=\"#Ingrid-Arbieto-Nelson\" data-toc-modified-id=\"Ingrid-Arbieto-Nelson-1.1\">Ingrid Arbieto Nelson</a></span></li><li><span><a href=\"#Task\" data-toc-modified-id=\"Task-1.2\">Task</a></span></li><li><span><a href=\"#The-Data\" data-toc-modified-id=\"The-Data-1.3\">The Data</a></span></li></ul></li><li><span><a href=\"#Importances-&amp;-Coefficients\" data-toc-modified-id=\"Importances-&amp;-Coefficients-2\">Importances &amp; Coefficients</a></span><ul class=\"toc-item\"><li><span><a href=\"#Imports\" data-toc-modified-id=\"Imports-2.1\">Imports</a></span></li><li><span><a href=\"#Load-Data\" data-toc-modified-id=\"Load-Data-2.2\">Load Data</a></span></li><li><span><a href=\"#PreProcessing\" data-toc-modified-id=\"PreProcessing-2.3\">PreProcessing</a></span></li><li><span><a href=\"#Fit-&amp;-Evaluate-Tree-Based-Model\" data-toc-modified-id=\"Fit-&amp;-Evaluate-Tree-Based-Model-2.4\">Fit &amp; Evaluate Tree Based Model</a></span></li><li><span><a href=\"#Extract-&amp;-Plot-Feature-Importances\" data-toc-modified-id=\"Extract-&amp;-Plot-Feature-Importances-2.5\">Extract &amp; Plot Feature Importances</a></span><ul class=\"toc-item\"><li><span><a href=\"#What-were-your-5-most-important-features?\" data-toc-modified-id=\"What-were-your-5-most-important-features?-2.5.1\">What were your 5 most important features?</a></span></li></ul></li><li><span><a href=\"#Extract-&amp;-Plot-Permutation-Feature-Importances\" data-toc-modified-id=\"Extract-&amp;-Plot-Permutation-Feature-Importances-2.6\">Extract &amp; Plot Permutation Feature Importances</a></span><ul class=\"toc-item\"><li><span><a href=\"#What-were-your-5-most-permutation-important-features?\" data-toc-modified-id=\"What-were-your-5-most-permutation-important-features?-2.6.1\">What were your 5 most permutation important features?</a></span></li></ul></li></ul></li><li><span><a href=\"#Linear-Regression\" data-toc-modified-id=\"Linear-Regression-3\">Linear Regression</a></span></li></ul></div>"
   ]
  },
  {
   "cell_type": "markdown",
   "id": "d4921f8e",
   "metadata": {},
   "source": [
    "The following practice assignment is much longer than a typical practice assignment.\n",
    "* You may skip this assignment if you feel comfortable with what you have learned thus far.\n",
    "* Note: while the target grades (G1-G3) are different, all of the features from this data set are the same as those from the Student Performance lessons. They require the same preprocessing steps as you've seen in the previous lessons.\n",
    "\n",
    "### Task\n",
    "For this assignment, we will be using the alternative version of the student performance dataset that we've been exploring in the lessons this week. You will create a model to predict the students' final grades (G3), but using the Math grades version of the data. The features are the same as the dataset used in the lessons, but the G1, G2, and G3 columns are the students' grades for Math instead of Portuguese.\n",
    "* First, preprocess the data.\n",
    "   * A: Perform train-test-split with G3 as the target.\n",
    "   * B: Use a ColumnTransformer with the required preprocessing steps\n",
    "      * Drop any unnecessary binary categories using the drop='if_binary' argument for OneHotEncoder.\n",
    "      * Don't forget to add verbose_feature_names_out=False\n",
    "   * C: Create DataFrame versions of your X_train and X_test data using the correct feature names.\n",
    "* Second, fit a tree-based model of your choice (that produces feature importances).\n",
    "   * A: Evaluate its performance on the training and test data.\n",
    "   * B: extract and visualize the feature importances determined by the model.\n",
    "   * C: Answer what were the top 5 most important features?\n",
    "* Third, apply sklearn's permutation_importance.\n",
    "   * A: visualize the permutation importances.\n",
    "   * B: Answer what are the top 5 most important features the same as the top 5 most important features (according to our built-in importance)?\n",
    "* Fourth, Fit a sklearn LinearRegression model.\n",
    "   * A: Evaluate its performance on the training & test data.\n",
    "   * B: visualize the model's top 15 largest coefficients (according to absolute value).\n",
    "   * C: Select the 3 largest coefficients (by absolute value) and explain what they mean and what insights they might provide.\n",
    "\n",
    "### The Data\n",
    "\n",
    "Student Performance - Math\n",
    "   * [Share URL](https://docs.google.com/spreadsheets/d/1EbTcrapgIgMETN5H9Khw9N92k4OLN1Zu/edit#gid=326611786)\n",
    "   * Direct Link:\n",
    "https://docs.google.com/spreadsheets/d/e/2PACX-1vS6xDKNpWkBBdhZSqepy48bXo55QnRv1Xy6tXTKYzZLMPjZozMfYhHQjAcC8uj9hQ/pub?output=xlsx\n",
    "\n",
    "* Note: the dataset is an Excel document, and you will need to specify that sheet_name='student-mat' in pd.read_excel\n",
    "* Original Source & Data Dictionary:\n",
    "https://archive.ics.uci.edu/ml/datasets/student+performance"
   ]
  },
  {
   "cell_type": "markdown",
   "id": "5a6a00f4",
   "metadata": {},
   "source": [
    "## Importances & Coefficients\n",
    "\n",
    "### Imports"
   ]
  },
  {
   "cell_type": "code",
   "execution_count": null,
   "id": "f8b6f742",
   "metadata": {},
   "outputs": [],
   "source": [
    "## standard imports\n",
    "import pandas as pd\n",
    "import numpy as np\n",
    "import matplotlib.pyplot as plt\n",
    "import seaborn as sns\n",
    "\n",
    "## Preprocessing\n",
    "from sklearn.model_selection import train_test_split\n",
    "from sklearn.compose import make_column_transformer, make_column_selector\n",
    "from sklearn.pipeline import make_pipeline\n",
    "from sklearn.preprocessing import OneHotEncoder, StandardScaler\n",
    "from sklearn.impute import SimpleImputer\n",
    "\n",
    "\n",
    "## Models & evaluation metrics\n",
    "from sklearn import metrics\n",
    "from sklearn.linear_model import LinearRegression\n",
    "from sklearn.tree import DecisionTreeRegressor\n",
    "from sklearn.ensemble import RandomForestRegressor\n",
    "import xgboost as xgb\n",
    "from sklearn.inspection import permutation_importance\n",
    "import joblib\n",
    "\n",
    "## setting random state for reproducibility\n",
    "SEED = 321\n",
    "np.random.seed(SEED)\n",
    "plt.style.use(('ggplot','tableau-colorblind10'))\n",
    "\n",
    "import warnings\n",
    "warnings.filterwarnings('ignore')"
   ]
  },
  {
   "cell_type": "code",
   "execution_count": null,
   "id": "2bf1b785",
   "metadata": {},
   "outputs": [],
   "source": [
    "## set pandas to display more columns\n",
    "pd.set_option('display.max_columns',50)"
   ]
  },
  {
   "cell_type": "markdown",
   "id": "75c18e0c",
   "metadata": {},
   "source": [
    "### Load Data"
   ]
  },
  {
   "cell_type": "code",
   "execution_count": null,
   "id": "69562ac2",
   "metadata": {},
   "outputs": [],
   "source": [
    "file = \"https://docs.google.com/spreadsheets/d/e/2PACX-1vS6xDKNpWkBBdhZSqepy48bXo55QnRv1Xy6tXTKYzZLMPjZozMfYhHQjAcC8uj9hQ/pub?output=xlsx\"\n",
    "df = pd.read_excel(file, sheet_name='student-mat')\n",
    "df.info()"
   ]
  },
  {
   "cell_type": "code",
   "execution_count": null,
   "id": "3c39652f",
   "metadata": {},
   "outputs": [],
   "source": [
    "df.head()"
   ]
  },
  {
   "cell_type": "markdown",
   "id": "e04a452e",
   "metadata": {},
   "source": [
    "### PreProcessing"
   ]
  },
  {
   "cell_type": "code",
   "execution_count": null,
   "id": "24459546",
   "metadata": {},
   "outputs": [],
   "source": [
    "## assign X and y\n",
    "y = df['G3']\n",
    "X = df.drop(columns='G3')\n",
    "\n",
    "## train-test-split\n",
    "X_train, X_test, y_train, y_test = train_test_split(X,y, random_state=SEED)\n",
    "X_train.head()"
   ]
  },
  {
   "cell_type": "code",
   "execution_count": null,
   "id": "8edbc242",
   "metadata": {},
   "outputs": [],
   "source": [
    "## make pipelines for categorical vs numeric data\n",
    "cat_sel = make_column_selector(dtype_include='object')\n",
    "cat_pipe = make_pipeline(SimpleImputer(strategy='constant',\n",
    "                                       fill_value='MISSING'),\n",
    "                         OneHotEncoder(drop='if_binary', sparse=False)\n",
    "                        )\n",
    "\n",
    "num_sel = make_column_selector(dtype_include='number')\n",
    "num_pipe = make_pipeline(SimpleImputer(strategy='mean'))\n",
    "\n",
    "\n",
    "## make the preprocessing column transformer with verbose_feature_names_out=False\n",
    "preprocessor = make_column_transformer((num_pipe, num_sel),\n",
    "                                       (cat_pipe,cat_sel),\n",
    "                                      verbose_feature_names_out=False)\n",
    "preprocessor"
   ]
  },
  {
   "cell_type": "code",
   "execution_count": null,
   "id": "686afd1d",
   "metadata": {},
   "outputs": [],
   "source": [
    "## fit column transformer and run get_feature_names_out\n",
    "preprocessor.fit(X_train)\n",
    "feature_names = preprocessor.get_feature_names_out()\n",
    "\n",
    "\n",
    "X_train_df = pd.DataFrame(preprocessor.transform(X_train), \n",
    "                          columns = feature_names, index = X_train.index)\n",
    "\n",
    "X_test_df = pd.DataFrame(preprocessor.transform(X_test), \n",
    "                          columns = feature_names, index = X_test.index)\n",
    "X_test_df.head(3)"
   ]
  },
  {
   "cell_type": "markdown",
   "id": "326c7a9c",
   "metadata": {},
   "source": [
    "### Fit & Evaluate Tree Based Model"
   ]
  },
  {
   "cell_type": "code",
   "execution_count": null,
   "id": "125ba722",
   "metadata": {},
   "outputs": [],
   "source": [
    "def evaluate_regression(model, X_train,y_train, X_test, y_test): \n",
    "    \"\"\"Evaluates a scikit-learn-compatible regression model using r-squared and RMSE\n",
    "\n",
    "    Args:\n",
    "        model (Regressor): Regression Model with a .predict method\n",
    "        X_train (DataFrame): Training Features\n",
    "        y_train (Series): Training Target\n",
    "        X_test (DataFrame): Test Features\n",
    "        y_test (Series): Test Target\n",
    "    \"\"\"\n",
    "\n",
    "    ## Training Data\n",
    "    y_pred_train = model.predict(X_train)\n",
    "    r2_train = metrics.r2_score(y_train, y_pred_train)\n",
    "    rmse_train = metrics.mean_squared_error(y_train, y_pred_train, \n",
    "                                            squared=False)\n",
    "    \n",
    "    print(f\"Training Data:\\tR^2= {r2_train:.2f}\\tRMSE= {rmse_train:.2f}\")\n",
    "        \n",
    "    \n",
    "    ## Test Data\n",
    "    y_pred_test = model.predict(X_test)\n",
    "    r2_test = metrics.r2_score(y_test, y_pred_test)\n",
    "    rmse_test = metrics.mean_squared_error(y_test, y_pred_test, \n",
    "                                            squared=False)\n",
    "    \n",
    "    print(f\"Test Data:\\tR^2= {r2_test:.2f}\\tRMSE= {rmse_test:.2f}\")"
   ]
  },
  {
   "cell_type": "code",
   "execution_count": null,
   "id": "74af7bb9",
   "metadata": {},
   "outputs": [],
   "source": [
    "reg = RandomForestRegressor()\n",
    "reg.fit(X_train_df,y_train)\n",
    "evaluate_regression(reg, X_train_df, y_train, X_test_df,y_test)"
   ]
  },
  {
   "cell_type": "code",
   "execution_count": null,
   "id": "bd5132ac",
   "metadata": {},
   "outputs": [],
   "source": [
    "feature_importance = pd.Series(reg.feature_importances_, index=feature_names,\n",
    "                        name='Random Forest Feature Importances')\n",
    "feature_importance.head()"
   ]
  },
  {
   "cell_type": "markdown",
   "id": "9c4978ef",
   "metadata": {},
   "source": [
    "### Extract & Plot Feature Importances"
   ]
  },
  {
   "cell_type": "code",
   "execution_count": null,
   "id": "fbaa3a74",
   "metadata": {},
   "outputs": [],
   "source": [
    "ax = feature_importance.sort_values().tail(10).plot(kind='barh',figsize=(4,6))\n",
    "ax.set(ylabel='Feature Name',xlabel='Feature Importance',\n",
    "       title='Top 10 Most Important Features');"
   ]
  },
  {
   "cell_type": "markdown",
   "id": "7aa19a8b",
   "metadata": {},
   "source": [
    "#### What were your 5 most important features?\n",
    "\n",
    "* G2\n",
    "* absences\n",
    "* age\n",
    "* study time\n",
    "* health"
   ]
  },
  {
   "cell_type": "markdown",
   "id": "a929271d",
   "metadata": {},
   "source": [
    "### Extract & Plot Permutation Feature Importances"
   ]
  },
  {
   "cell_type": "code",
   "execution_count": null,
   "id": "2c7aa937",
   "metadata": {},
   "outputs": [],
   "source": [
    "r = permutation_importance(reg, X_train_df, y_train ,n_repeats =5)\n",
    "r.keys()"
   ]
  },
  {
   "cell_type": "code",
   "execution_count": null,
   "id": "f26e44ed",
   "metadata": {},
   "outputs": [],
   "source": [
    "## can make the mean importances into a series\n",
    "perm_importances = pd.Series(r['importances_mean'],index=X_train_df.columns,\n",
    "                           name = 'permutation importance')\n",
    "perm_importances.head()"
   ]
  },
  {
   "cell_type": "code",
   "execution_count": null,
   "id": "d760fba4",
   "metadata": {},
   "outputs": [],
   "source": [
    "ax = perm_importances.sort_values().tail(10).plot(kind='barh',figsize=(4,6))\n",
    "ax.set(ylabel='Feature Name',xlabel='Permutation Importance',\n",
    "       title='Top 10 Most Important Features: Permutation Importance');"
   ]
  },
  {
   "cell_type": "markdown",
   "id": "2d1073bd",
   "metadata": {},
   "source": [
    "#### What were your 5 most permutation important features?\n",
    "\n",
    "* G2\n",
    "* absences\n",
    "* age\n",
    "* studytime\n",
    "* health"
   ]
  },
  {
   "cell_type": "markdown",
   "id": "d11fd416",
   "metadata": {},
   "source": [
    "## Linear Regression"
   ]
  },
  {
   "cell_type": "code",
   "execution_count": null,
   "id": "1298658b",
   "metadata": {},
   "outputs": [],
   "source": [
    "lin_reg = LinearRegression()\n",
    "lin_reg.fit(X_train_df,y_train)\n",
    "evaluate_regression(lin_reg, X_train_df, y_train, X_test_df,y_test)"
   ]
  },
  {
   "cell_type": "code",
   "execution_count": null,
   "id": "b0e27d86",
   "metadata": {},
   "outputs": [],
   "source": [
    "coeffs = pd.Series(lin_reg.coef_, index=feature_names,\n",
    "                        name='Coefficients')\n",
    "coeffs.loc['intercept'] = lin_reg.intercept_\n",
    "coeffs.head()"
   ]
  },
  {
   "cell_type": "code",
   "execution_count": null,
   "id": "fa6be5b4",
   "metadata": {},
   "outputs": [],
   "source": [
    "## Plot the coefficients\n",
    "ax = plot_vals.sort_values().plot(kind='barh')#,figsize=(5,6))\n",
    "ax.axvline(0,color='k')\n",
    "ax.set_title(f'Top {top_n} Largest Coeffiicents');"
   ]
  },
  {
   "cell_type": "code",
   "execution_count": null,
   "id": "a64747e5",
   "metadata": {},
   "outputs": [],
   "source": [
    "## rank the coeffs and select the top_n\n",
    "top_n=15\n",
    "coeff_rank = coeffs.abs().rank().sort_values(ascending=False)\n",
    "top_n_features = coeff_rank.head(top_n)\n",
    "coeffs_plot = coeffs.loc[top_n_features.index].sort_values()\n",
    "coeffs_plot"
   ]
  },
  {
   "cell_type": "code",
   "execution_count": null,
   "id": "8dc04cc9",
   "metadata": {},
   "outputs": [],
   "source": [
    "top_n_features = coeff_rank.head(top_n)\n",
    "coeffs_plot = coeffs.loc[top_n_features.index].sort_values()\n",
    "coeffs_plot"
   ]
  },
  {
   "cell_type": "code",
   "execution_count": null,
   "id": "8bd0b14e",
   "metadata": {},
   "outputs": [],
   "source": [
    "## sort features and keep top_n and set title\n",
    "ax = coeffs_plot.sort_values().plot(kind='barh',figsize=(5,6))\n",
    "ax.axvline(0,color='k');\n",
    "ax.set(title = f\"Top {top_n} Largest Coefficients\",ylabel=\"Feature Name\",\n",
    "      xlabel='Coefficient');"
   ]
  },
  {
   "cell_type": "code",
   "execution_count": null,
   "id": "5d8642ee",
   "metadata": {},
   "outputs": [],
   "source": [
    "def plot_coeffs(coeffs, top_n=None,  figsize=(4,5), intercept=False, \n",
    "                annotate=False, ha='left',va='center', size=12, xytext=(4,0),\n",
    "                  textcoords='offset points'):\n",
    "    \"\"\"Plots the top_n coefficients from a Series, with optional annotations.\"\"\"\n",
    "    if (intercept==False) & ('intercept' in coeffs.index):\n",
    "        coeffs = coeffs.drop('intercept')\n",
    "    if top_n==None:\n",
    "        ## sort all features and set title\n",
    "        plot_vals = coeffs#.sort_values()\n",
    "        title = \"All Coefficients - Ranked by Magnitude\"\n",
    "    else:\n",
    "        ## rank the coeffs and select the top_n\n",
    "        coeff_rank = coeffs.abs().rank().sort_values(ascending=False)\n",
    "        top_n_features = coeff_rank.head(top_n)\n",
    "        plot_vals = coeffs.loc[top_n_features.index].sort_values()\n",
    "        ## sort features and keep top_n and set title\n",
    "        title = f\"Top {top_n} Largest Coefficients\"\n",
    "    ## plotting top N importances\n",
    "    ax = plot_vals.plot(kind='barh', figsize=figsize)\n",
    "    ax.set(xlabel='Coefficient', \n",
    "           ylabel='Feature Names', \n",
    "           title=title)\n",
    "    ax.axvline(0, color='k')\n",
    "    \n",
    "    if annotate==True:\n",
    "        annotate_hbars(ax, ha=ha,va=va,size=size,xytext=xytext,\n",
    "                       textcoords=textcoords)\n",
    "    ## return ax in case want to continue to update/modify figure\n",
    "    return ax\n",
    "\n",
    "def annotate_hbars(ax, ha='left',va='center',size=12,  xytext=(4,0),\n",
    "                  textcoords='offset points'):\n",
    "    for bar in ax.patches:\n",
    "    \n",
    "        ## calculate center of bar\n",
    "        bar_ax = bar.get_y() + bar.get_height()/2\n",
    "        ## get the value to annotate\n",
    "        val = bar.get_width()\n",
    "        if val < 0:\n",
    "            val_pos = 0\n",
    "        else:\n",
    "            val_pos = val\n",
    "        # ha and va stand for the horizontal and vertical alignment\n",
    "        ax.annotate(f\"{val:.3f}\", (val_pos,bar_ax), ha=ha,va=va,size=size,\n",
    "                        xytext=xytext, textcoords=textcoords)"
   ]
  },
  {
   "cell_type": "code",
   "execution_count": null,
   "id": "651e4c9f",
   "metadata": {},
   "outputs": [],
   "source": [
    "plot_coeffs(coeffs,top_n=15,intercept=False,annotate=True);"
   ]
  },
  {
   "cell_type": "code",
   "execution_count": null,
   "id": "c82531ce",
   "metadata": {},
   "outputs": [],
   "source": [
    "ax = plot_coeffs(coeffs,top_n=15)\n",
    "annotate_hbars(ax)"
   ]
  }
 ],
 "metadata": {
  "kernelspec": {
   "display_name": "Python (dojo-env)",
   "language": "python",
   "name": "dojo-env"
  },
  "language_info": {
   "codemirror_mode": {
    "name": "ipython",
    "version": 3
   },
   "file_extension": ".py",
   "mimetype": "text/x-python",
   "name": "python",
   "nbconvert_exporter": "python",
   "pygments_lexer": "ipython3",
   "version": "3.9.15"
  },
  "toc": {
   "base_numbering": 1,
   "nav_menu": {},
   "number_sections": false,
   "sideBar": true,
   "skip_h1_title": false,
   "title_cell": "Table of Contents",
   "title_sidebar": "Contents",
   "toc_cell": true,
   "toc_position": {},
   "toc_section_display": true,
   "toc_window_display": true
  }
 },
 "nbformat": 4,
 "nbformat_minor": 5
}
